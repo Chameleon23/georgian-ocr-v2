{
 "cells": [
  {
   "cell_type": "code",
   "execution_count": 1,
   "metadata": {
    "collapsed": false
   },
   "outputs": [
    {
     "name": "stderr",
     "output_type": "stream",
     "text": [
      "Using TensorFlow backend.\n"
     ]
    }
   ],
   "source": [
    "%matplotlib inline\n",
    "from __future__ import unicode_literals\n",
    "import re\n",
    "from scipy import ndimage\n",
    "import cairocffi as cairo\n",
    "import numpy as np\n",
    "import random\n",
    "from keras.preprocessing import image\n",
    "from matplotlib import pyplot as plt\n",
    "from matplotlib.font_manager import FontProperties\n",
    "\n",
    "random.seed(55)\n",
    "np.random.seed(55)\n",
    "\n",
    "# this creates larger \"blotches\" of noise which look\n",
    "# more realistic than just adding gaussian noise\n",
    "# assumes greyscale with pixels ranging from 0 to 1\n",
    "\n",
    "def speckle(img):\n",
    "    severity = np.random.uniform(0, 0.6)\n",
    "    blur = ndimage.gaussian_filter(np.random.randn(*img.shape) * severity, 1)\n",
    "    img_speck = (img + blur)\n",
    "    img_speck[img_speck > 1] = 1\n",
    "    img_speck[img_speck <= 0] = 0\n",
    "    return img_speck\n",
    "\n",
    "\n",
    "# paints the string in a random location the bounding box\n",
    "# also uses a random font, a slight random rotation,\n",
    "# and a random amount of speckle noise\n",
    "\n",
    "def paint_text(text, w, h, rotate=False, ud=False, multi_fonts=False, multi_sizes=False, save=False):\n",
    "    surface = cairo.ImageSurface(cairo.FORMAT_RGB24, w, h)\n",
    "    with cairo.Context(surface) as context:\n",
    "        context.set_source_rgb(1, 1, 1)  # White\n",
    "        context.paint()\n",
    "        # this font list works in Centos 7\n",
    "        if multi_fonts:\n",
    "            fonts = ['FreeMono','Serif','FreeSerif','FreeSans','BPG Glakho','Monospace']\n",
    "            context.select_font_face(np.random.choice(fonts), cairo.FONT_SLANT_NORMAL,\n",
    "                                     np.random.choice([cairo.FONT_WEIGHT_BOLD, cairo.FONT_WEIGHT_NORMAL]))\n",
    "        else:\n",
    "            context.select_font_face('Courier', cairo.FONT_SLANT_NORMAL, cairo.FONT_WEIGHT_BOLD)\n",
    "        if (multi_sizes):\n",
    "          context.set_font_size(random.randint(14, 32))\n",
    "        else: \n",
    "          context.set_font_size(25)\n",
    "        box = context.text_extents(text)\n",
    "        border_w_h = (4, 4)\n",
    "        if box[2] > (w - 2 * border_w_h[1]) or box[3] > (h - 2 * border_w_h[0]):\n",
    "            raise IOError('Could not fit string into image. Max char count is too large for given image width.')\n",
    "\n",
    "        # teach the RNN translational invariance by\n",
    "        # fitting text box randomly on canvas, with some room to rotate\n",
    "        max_shift_x = w - box[2] - border_w_h[0]\n",
    "        max_shift_y = h - box[3] - border_w_h[1]\n",
    "        top_left_x = np.random.randint(0, int(max_shift_x))\n",
    "        if ud:\n",
    "            top_left_y = np.random.randint(0, int(max_shift_y))\n",
    "        else:\n",
    "            top_left_y = h // 2\n",
    "        context.move_to(top_left_x - int(box[0]), top_left_y - int(box[1]))\n",
    "        context.set_source_rgb(0, 0, 0)\n",
    "        context.show_text(text)\n",
    "    if save:\n",
    "      surface.write_to_png('img_'+text+'.png')\n",
    "    buf = surface.get_data()\n",
    "    a = np.frombuffer(buf, np.uint8)\n",
    "    a.shape = (h, w, 4)\n",
    "    a = a[:, :, 0]  # grab single channel\n",
    "    a = a.astype(np.float32) / 255\n",
    "    a = np.expand_dims(a, 0)\n",
    "    if rotate:\n",
    "        a = image.random_rotation(a, 3 * (w - top_left_x) / w + 1)\n",
    "    a = speckle(a)\n",
    "    return a\n",
    "   \n"
   ]
  },
  {
   "cell_type": "code",
   "execution_count": 6,
   "metadata": {
    "collapsed": false
   },
   "outputs": [
    {
     "data": {
      "text/plain": [
       "<matplotlib.figure.Figure at 0x7f770a8e9190>"
      ]
     },
     "metadata": {},
     "output_type": "display_data"
    }
   ],
   "source": [
    "#latin_upper = u'ABCDEFGHIJKLMNOPQRSTUVWXYZ'\n",
    "#latin_lower = u'abcdefghijklmnopqrstuvwxyz'\n",
    "georgian = u'აბგდევზთიკლმნოპჟრსტუფქღყშჩცძწჭხჯჰჱჲჳჴჵ'\n",
    "numbers = u'1234567890'\n",
    "symbols = u'!@#$%^&*()-+=/\\\\.,<>?;:\"|}{[]'\n",
    "\n",
    "chars = georgian + numbers + symbols\n",
    "size = len(chars)\n",
    "fig = plt.figure(figsize=(8, 8))\n",
    "x_train = np.zeros([60000,64,64])\n",
    "y_train = [' '] * 60000\n",
    "\n",
    "for i in range(60000):\n",
    "    char = chars[random.randint(0,size-1)]    \n",
    "    img = paint_text(char,64,64,save=False, rotate=True, ud=True, multi_fonts=True, multi_sizes=True)\n",
    "    x_train[i] = 1-img\n",
    "    y_train[i] = char\n",
    "x_train \n"
   ]
  },
  {
   "cell_type": "code",
   "execution_count": 10,
   "metadata": {
    "collapsed": false
   },
   "outputs": [
    {
     "data": {
      "text/plain": [
       "array([[  3.30916604e-04,   9.80060178e-05,   0.00000000e+00, ...,\n",
       "          1.38396618e-04,   1.46452310e-04,   8.62316428e-05],\n",
       "       [  2.25537026e-04,   6.38019507e-05,   0.00000000e+00, ...,\n",
       "          1.17819927e-04,   9.02767962e-05,   0.00000000e+00],\n",
       "       [  9.89784078e-05,   1.26512742e-05,   0.00000000e+00, ...,\n",
       "          1.12573316e-04,   1.05608554e-04,   7.08971025e-05],\n",
       "       ..., \n",
       "       [  0.00000000e+00,   0.00000000e+00,   2.30979898e-07, ...,\n",
       "          1.99457013e-04,   8.66401396e-05,   3.38707422e-05],\n",
       "       [  0.00000000e+00,   0.00000000e+00,   0.00000000e+00, ...,\n",
       "          1.58737524e-04,   7.63362309e-05,   8.49035337e-05],\n",
       "       [  0.00000000e+00,   0.00000000e+00,   0.00000000e+00, ...,\n",
       "          2.30683670e-05,   0.00000000e+00,   0.00000000e+00]])"
      ]
     },
     "execution_count": 10,
     "metadata": {},
     "output_type": "execute_result"
    }
   ],
   "source": [
    "1-x_train[1]"
   ]
  },
  {
   "cell_type": "code",
   "execution_count": null,
   "metadata": {
    "collapsed": true
   },
   "outputs": [],
   "source": []
  }
 ],
 "metadata": {
  "kernelspec": {
   "display_name": "Python 2",
   "language": "python",
   "name": "python2"
  },
  "language_info": {
   "codemirror_mode": {
    "name": "ipython",
    "version": 2
   },
   "file_extension": ".py",
   "mimetype": "text/x-python",
   "name": "python",
   "nbconvert_exporter": "python",
   "pygments_lexer": "ipython2",
   "version": "2.7.12"
  }
 },
 "nbformat": 4,
 "nbformat_minor": 0
}
